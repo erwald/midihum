{
 "cells": [
  {
   "cell_type": "code",
   "execution_count": null,
   "id": "008a0612-1c09-41a6-a97b-a867be66443a",
   "metadata": {},
   "outputs": [],
   "source": [
    "import pandas as pd\n",
    "import numpy as np\n",
    "from sklearn.preprocessing import StandardScaler\n",
    "from sklearn.model_selection import RandomizedSearchCV\n",
    "from scipy.stats import uniform, loguniform\n",
    "from scipy.stats import randint\n",
    "import xgboost\n",
    "\n",
    "import midihum_model"
   ]
  },
  {
   "cell_type": "code",
   "execution_count": null,
   "id": "a1e21c81-fe5f-4d4e-a759-fc19e3d27bd4",
   "metadata": {},
   "outputs": [],
   "source": [
    "train_df = pd.read_parquet(\"dfs/train_data.parquet.gzip\").sample(n=500_000)\n",
    "test_df = pd.read_parquet(\"dfs/validate_data.parquet.gzip\").sample(n=50_000)\n",
    "train_df"
   ]
  },
  {
   "cell_type": "code",
   "execution_count": null,
   "id": "9692f686-0e2a-49cd-a9dc-c9703cdd114e",
   "metadata": {},
   "outputs": [],
   "source": [
    "train_df = train_df.drop([\"midi_track_index\", \"midi_event_index\", \"name\"], axis=1)\n",
    "test_df = test_df.drop([\"midi_track_index\", \"midi_event_index\", \"name\"], axis=1)"
   ]
  },
  {
   "cell_type": "code",
   "execution_count": null,
   "id": "a8aa8937-d0d7-40b9-9f6c-c923ffeafab1",
   "metadata": {},
   "outputs": [],
   "source": [
    "cat_names, cont_names, out_names = midihum_model.MidihumModel._get_column_names_from_df(train_df)\n",
    "std_scaler = StandardScaler()\n",
    "std_scaler.fit(train_df[cont_names + out_names])\n",
    "print(\"std_scaler\", std_scaler.mean_[:10], std_scaler.var_[:10])\n",
    "train_df[cont_names + out_names] = std_scaler.transform(train_df[cont_names + out_names])\n",
    "test_df[cont_names + out_names] = std_scaler.transform(test_df[cont_names + out_names])"
   ]
  },
  {
   "cell_type": "code",
   "execution_count": null,
   "id": "7228de52-8d95-4d1a-af88-733d47ebeb7b",
   "metadata": {},
   "outputs": [],
   "source": [
    "for col in cat_names:\n",
    "    train_df[col] = train_df[col].astype(\"category\")\n",
    "    test_df[col] = test_df[col].astype(\"category\")"
   ]
  },
  {
   "cell_type": "code",
   "execution_count": null,
   "id": "ff044d3c-8f6f-4ada-9e1b-0293d4c793b6",
   "metadata": {},
   "outputs": [],
   "source": [
    "X_train = train_df.drop([\"velocity\"], axis=1)\n",
    "y_train = train_df[\"velocity\"]\n",
    "X_test = test_df.drop([\"velocity\"], axis=1)\n",
    "y_test = test_df[\"velocity\"]\n",
    "X_train"
   ]
  },
  {
   "cell_type": "code",
   "execution_count": null,
   "id": "e874aea6-375e-4855-80e5-090db4dc4006",
   "metadata": {},
   "outputs": [],
   "source": [
    "model = xgboost.XGBRegressor(\n",
    "    booster=\"gbtree\", learning_rate=0.05, gamma=0.9, subsample=0.8, colsample_bytree=0.9, reg_alpha=0.8, reg_lambda=0.5, \n",
    "    n_jobs=16, enable_categorical=True)\n",
    "distributions = dict(\n",
    "    n_estimators=randint(100, 1500),\n",
    "    max_depth=randint(2, 9),\n",
    "    #learning_rate=loguniform(0.01, 1)\n",
    "    #gamma=uniform(0, 1),\n",
    "    min_child_weight=uniform(1, 15)\n",
    "    #subsample=uniform(loc=0.5, scale=0.5),\n",
    "    #colsample_bytree=uniform(loc=0.5, scale=0.5),\n",
    "    #reg_alpha=uniform(0, 1),\n",
    "    #reg_lambda=uniform(0, 1)\n",
    ")\n",
    "clf = RandomizedSearchCV(model, distributions, n_iter=25, random_state=0, verbose=2)\n",
    "search = clf.fit(X_train, y_train)\n",
    "search.best_params_"
   ]
  },
  {
   "cell_type": "code",
   "execution_count": null,
   "id": "9069a007-6dad-4398-b8f4-a36ed56f92fe",
   "metadata": {},
   "outputs": [],
   "source": [
    "pd.set_option(\"display.max_colwidth\", None)\n",
    "pd.DataFrame(search.cv_results_)[[\"mean_fit_time\", \"params\", \"mean_test_score\", \"rank_test_score\"]]"
   ]
  },
  {
   "cell_type": "code",
   "execution_count": null,
   "id": "f50bc569-5308-448e-a127-b93cc37a8505",
   "metadata": {},
   "outputs": [],
   "source": [
    "import matplotlib.pyplot as plt\n",
    "import seaborn as sns\n",
    "\n",
    "vars = [\n",
    "    \"n_estimators\",\n",
    "    \"max_depth\",\n",
    "#    \"learning_rate\",\n",
    "#    \"gamma\",\n",
    "    \"min_child_weight\"\n",
    "#    \"subsample\",\n",
    "#    \"colsample_bytree\",\n",
    "#    \"reg_alpha\",\n",
    "#    \"reg_lambda\"\n",
    "]\n",
    "vars = [f\"param_{var}\" for var in vars]\n",
    "\n",
    "search_df = pd.DataFrame(search.cv_results_)\n",
    "search_df[vars + [\"mean_test_score\"]] = search_df[vars + [\"mean_test_score\"]].astype(float)\n",
    "for var in vars:\n",
    "    sns.lmplot(data=search_df, x=var, y=\"mean_test_score\")\n",
    "plt.show()"
   ]
  },
  {
   "cell_type": "code",
   "execution_count": null,
   "id": "f998dd79-e85b-47ad-83d2-5949d2f99368",
   "metadata": {},
   "outputs": [],
   "source": []
  }
 ],
 "metadata": {
  "kernelspec": {
   "display_name": "Python 3 (ipykernel)",
   "language": "python",
   "name": "python3"
  },
  "language_info": {
   "codemirror_mode": {
    "name": "ipython",
    "version": 3
   },
   "file_extension": ".py",
   "mimetype": "text/x-python",
   "name": "python",
   "nbconvert_exporter": "python",
   "pygments_lexer": "ipython3",
   "version": "3.10.0"
  }
 },
 "nbformat": 4,
 "nbformat_minor": 5
}
