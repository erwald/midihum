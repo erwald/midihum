{
 "cells": [
  {
   "cell_type": "code",
   "execution_count": null,
   "id": "008a0612-1c09-41a6-a97b-a867be66443a",
   "metadata": {},
   "outputs": [],
   "source": [
    "import pandas as pd\n",
    "import pickle\n",
    "import numpy as np\n",
    "from sklearn.preprocessing import StandardScaler\n",
    "import xgboost\n",
    "\n",
    "import midihum_model"
   ]
  },
  {
   "cell_type": "code",
   "execution_count": null,
   "id": "de7c0236-4397-4b20-965f-33892ef6aaea",
   "metadata": {},
   "outputs": [],
   "source": [
    "save_model = False # TODO: change to False by default"
   ]
  },
  {
   "cell_type": "code",
   "execution_count": null,
   "id": "a1e21c81-fe5f-4d4e-a759-fc19e3d27bd4",
   "metadata": {},
   "outputs": [],
   "source": [
    "train_df = pd.read_parquet(\"dfs/train_data.parquet.gzip\")\n",
    "test_df = pd.read_parquet(\"dfs/validate_data.parquet.gzip\")\n",
    "train_df"
   ]
  },
  {
   "cell_type": "code",
   "execution_count": null,
   "id": "9692f686-0e2a-49cd-a9dc-c9703cdd114e",
   "metadata": {},
   "outputs": [],
   "source": [
    "train_df = train_df.drop([\"midi_track_index\", \"midi_event_index\", \"name\"], axis=1)\n",
    "test_df = test_df.drop([\"midi_track_index\", \"midi_event_index\", \"name\"], axis=1)"
   ]
  },
  {
   "cell_type": "code",
   "execution_count": null,
   "id": "a8aa8937-d0d7-40b9-9f6c-c923ffeafab1",
   "metadata": {},
   "outputs": [],
   "source": [
    "cat_names, cont_names, out_names = midihum_model.MidihumModel._get_column_names_from_df(train_df)\n",
    "std_scaler = StandardScaler()\n",
    "std_scaler.fit(train_df[cont_names + out_names])\n",
    "print(\"std_scaler\", std_scaler.mean_[:10], std_scaler.var_[:10])\n",
    "train_df[cont_names + out_names] = std_scaler.transform(train_df[cont_names + out_names])\n",
    "test_df[cont_names + out_names] = std_scaler.transform(test_df[cont_names + out_names])"
   ]
  },
  {
   "cell_type": "code",
   "execution_count": null,
   "id": "a2d6d1a3-0fef-4cae-bb50-27e9c1f1d7d1",
   "metadata": {},
   "outputs": [],
   "source": [
    "if save_model:\n",
    "    with open(midihum_model.MidihumModel.scaler_path, \"wb\") as f:\n",
    "        pickle.dump(std_scaler, f)"
   ]
  },
  {
   "cell_type": "code",
   "execution_count": null,
   "id": "7228de52-8d95-4d1a-af88-733d47ebeb7b",
   "metadata": {},
   "outputs": [],
   "source": [
    "for col in cat_names:\n",
    "    train_df[col] = train_df[col].astype(\"category\")\n",
    "    test_df[col] = test_df[col].astype(\"category\")"
   ]
  },
  {
   "cell_type": "code",
   "execution_count": null,
   "id": "ff044d3c-8f6f-4ada-9e1b-0293d4c793b6",
   "metadata": {},
   "outputs": [],
   "source": [
    "X_train = train_df.drop([\"velocity\"], axis=1)\n",
    "y_train = train_df[\"velocity\"]\n",
    "X_test = test_df.drop([\"velocity\"], axis=1)\n",
    "y_test = test_df[\"velocity\"]\n",
    "X_train"
   ]
  },
  {
   "cell_type": "code",
   "execution_count": null,
   "id": "e874aea6-375e-4855-80e5-090db4dc4006",
   "metadata": {},
   "outputs": [],
   "source": [
    "model = xgboost.XGBRegressor(\n",
    "    booster=\"gbtree\", max_depth=8, learning_rate=0.05, n_estimators=1400, gamma=0.9, min_child_weight=12, subsample=0.8, colsample_bytree=0.9,\n",
    "    reg_alpha=0.8, reg_lambda=0.5, n_jobs=16, enable_categorical=True)\n",
    "model.fit(X_train, y_train, early_stopping_rounds=5, eval_set=[(X_train, y_train), (X_test, y_test)], verbose=True)"
   ]
  },
  {
   "cell_type": "code",
   "execution_count": null,
   "id": "ca2c25b5-5274-4de7-b62d-b06c10b4e9a4",
   "metadata": {},
   "outputs": [],
   "source": [
    "from sklearn.metrics import mean_squared_error\n",
    "train_predictions = model.predict(X_train)\n",
    "train_rmse = mean_squared_error(y_train, train_predictions, squared=False)\n",
    "print(\"Train RMSE: %.3f\" % train_rmse)\n",
    "\n",
    "test_predictions = model.predict(X_test)\n",
    "test_rmse = mean_squared_error(y_test, test_predictions, squared=False)\n",
    "print(\"Test RMSE: %.3f\" % test_rmse)"
   ]
  },
  {
   "cell_type": "code",
   "execution_count": null,
   "id": "c3e0394e-3b1e-4dfa-a532-a0a5fff790b3",
   "metadata": {},
   "outputs": [],
   "source": [
    "if save_model:\n",
    "    model.save_model(midihum_model.MidihumModel.model_path)"
   ]
  },
  {
   "cell_type": "code",
   "execution_count": null,
   "id": "bfd50aed-1f8e-48d1-97a2-f2791fc7f0ac",
   "metadata": {},
   "outputs": [],
   "source": [
    "import matplotlib.pyplot as plt\n",
    "import seaborn as sns\n",
    "\n",
    "results = model.evals_result()\n",
    "plt.plot(results[\"validation_0\"][\"rmse\"], label=\"train\")\n",
    "plt.plot(results[\"validation_1\"][\"rmse\"], label=\"test\")\n",
    "plt.legend()\n",
    "plt.show()"
   ]
  },
  {
   "cell_type": "code",
   "execution_count": null,
   "id": "31ae050d-9d62-4aaa-88e7-aca0a5369591",
   "metadata": {},
   "outputs": [],
   "source": [
    "plot_df = X_test.copy()\n",
    "plot_df[\"velocity\"] = y_test\n",
    "plot_df[\"prediction\"] = test_predictions\n",
    "g = sns.lmplot(data=plot_df.sample(500), x=\"velocity\", y=\"prediction\", palette=\"bright\")\n",
    "plt.show()\n",
    "print(plot_df[\"prediction\"])"
   ]
  },
  {
   "cell_type": "code",
   "execution_count": null,
   "id": "785f994e-72c3-4b12-9012-59ac4c1b75d3",
   "metadata": {},
   "outputs": [],
   "source": [
    "col_idx = train_df.columns.get_loc(\"velocity\")\n",
    "velocities = midihum_model.MidihumModel._rescale_predictions(std_scaler, test_predictions)\n",
    "g = sns.displot(velocities)\n",
    "plt.show()"
   ]
  },
  {
   "cell_type": "code",
   "execution_count": null,
   "id": "3caa7a03-da06-426e-a2fb-07f0a61d714f",
   "metadata": {},
   "outputs": [],
   "source": [
    "importance_map = dict(zip(train_df.columns, model.feature_importances_))\n",
    "sorted(importance_map.items(), key=lambda x: x[1], reverse=True)"
   ]
  },
  {
   "cell_type": "code",
   "execution_count": null,
   "id": "2fb93934-7a76-43d1-9154-65b0a0b1ab11",
   "metadata": {},
   "outputs": [],
   "source": []
  }
 ],
 "metadata": {
  "kernelspec": {
   "display_name": "Python 3 (ipykernel)",
   "language": "python",
   "name": "python3"
  },
  "language_info": {
   "codemirror_mode": {
    "name": "ipython",
    "version": 3
   },
   "file_extension": ".py",
   "mimetype": "text/x-python",
   "name": "python",
   "nbconvert_exporter": "python",
   "pygments_lexer": "ipython3",
   "version": "3.10.0"
  }
 },
 "nbformat": 4,
 "nbformat_minor": 5
}
